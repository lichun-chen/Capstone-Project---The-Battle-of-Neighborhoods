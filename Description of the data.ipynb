{
 "cells": [
  {
   "cell_type": "markdown",
   "metadata": {},
   "source": [
    "# 2. A description of the data and how it will be used to solve the problem. "
   ]
  },
  {
   "cell_type": "markdown",
   "metadata": {},
   "source": [
    "### Data used in this project:\n",
    "   \n",
    "1. Neighborhood in the city of Toronto\n",
    "2. Neighborhood in the city of New York\n",
    "3. Venues in the city of Toronto obtained from FourSquare API\n",
    "4. Venues in the city of Toronto obtained from FourSquare API"
   ]
  },
  {
   "cell_type": "markdown",
   "metadata": {},
   "source": [
    "### How to use the data\n",
    "    \n",
    "1. Neighborhood data set is used to get the venues data of each city from FourSquare API\n",
    "2. The venues data from both city is used to cluster the venues of both cities using K-Nearest neighbor method. The cluster result will be used to compared the similarity betwee the two cities in order to get insights on whether the company's businuess will be welcomed in New York.\n",
    "3. The venues data in New York city is also used to provide suggestions to the company on the polular venues in New York can have potential worth of investment."
   ]
  },
  {
   "cell_type": "code",
   "execution_count": null,
   "metadata": {},
   "outputs": [],
   "source": []
  }
 ],
 "metadata": {
  "kernelspec": {
   "display_name": "Python 3",
   "language": "python",
   "name": "python3"
  },
  "language_info": {
   "codemirror_mode": {
    "name": "ipython",
    "version": 3
   },
   "file_extension": ".py",
   "mimetype": "text/x-python",
   "name": "python",
   "nbconvert_exporter": "python",
   "pygments_lexer": "ipython3",
   "version": "3.7.6"
  }
 },
 "nbformat": 4,
 "nbformat_minor": 4
}
