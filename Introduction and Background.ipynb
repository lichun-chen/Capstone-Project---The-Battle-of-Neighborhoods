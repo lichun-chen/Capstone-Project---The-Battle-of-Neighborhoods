{
 "cells": [
  {
   "cell_type": "markdown",
   "metadata": {},
   "source": [
    "# 1. Description of the problem and Discussion of the background"
   ]
  },
  {
   "cell_type": "markdown",
   "metadata": {},
   "source": [
    "### Description\n",
    "\n",
    "Target audience: Toronto investment companies that want to expand their business in New York.\n",
    "\n",
    "   \n"
   ]
  },
  {
   "cell_type": "markdown",
   "metadata": {},
   "source": [
    "For the companies that have done successful investments in Toronto, a promising direction of expanding their business is to investigate the city of New York, as Toronto and New York are relatively close to each other geographically, and both Toronto and New York are the financial capitals of their respective countries. For the companies in Toronto that are interested in this, one question they need to figure out is whether their business is similarly welcomed in the city of New York. Another interesting question is what are some good suggestions on expanding their business into other polular venues when exploring New York."
   ]
  },
  {
   "cell_type": "markdown",
   "metadata": {},
   "source": [
    "### Discussion\n",
    "   \n",
    "1. To check whether the company's business will be similarly welcomed in New York, a method is to compare the trend venues in Toronto and New York. We can combine the venues in both cities together and use K-Nearest neighbor method to cluster the venues in both city and compare in each city, how much percentage of venues falling into different clusters.\n",
    "      \n"
   ]
  },
  {
   "cell_type": "markdown",
   "metadata": {},
   "source": [
    "2. To give suggestions on popular venues in the city of New York, we can filter out the top10 venues in the city of New York and provide a list of filtered popular venues to the company."
   ]
  },
  {
   "cell_type": "code",
   "execution_count": null,
   "metadata": {},
   "outputs": [],
   "source": []
  }
 ],
 "metadata": {
  "kernelspec": {
   "display_name": "Python 3",
   "language": "python",
   "name": "python3"
  },
  "language_info": {
   "codemirror_mode": {
    "name": "ipython",
    "version": 3
   },
   "file_extension": ".py",
   "mimetype": "text/x-python",
   "name": "python",
   "nbconvert_exporter": "python",
   "pygments_lexer": "ipython3",
   "version": "3.7.6"
  }
 },
 "nbformat": 4,
 "nbformat_minor": 4
}
