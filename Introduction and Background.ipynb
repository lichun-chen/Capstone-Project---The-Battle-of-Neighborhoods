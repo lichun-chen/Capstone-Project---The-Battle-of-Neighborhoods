{
 "cells": [
  {
   "cell_type": "markdown",
   "metadata": {},
   "source": [
    "# 1. Description of the problem and Discussion of the background"
   ]
  },
  {
   "cell_type": "markdown",
   "metadata": {},
   "source": [
    "### Description\n",
    "   \n",
    "A company has done several successful investements in some trend venues in Toronto and makes a good profit in this city. Currently, this company is planning to develop its business in New York. The company wants to know whether its business in Toronto will be similarly welcomed in the city of New York. The company is also interested in expanding its business into other polular venues in the city of New York and wants to get some suggestions from data scientists.\n",
    "   \n"
   ]
  },
  {
   "cell_type": "markdown",
   "metadata": {},
   "source": [
    "### Discussion\n",
    "   \n",
    "1. To check whether the company's business will be similarly welcomed in New York, a method is to compare the trend venues in Toronto and New York. We can combine the venues in both cities together and use K-Nearest neighbor method to cluster the venues in both city and compare in each city, how much percentage of venues falling into different clusters.\n",
    "      \n"
   ]
  },
  {
   "cell_type": "markdown",
   "metadata": {},
   "source": [
    "2. To give suggestions on popular venues in the city of New York, we can filter out the top10 venues in the city of New York and provide a list of popular venues to the company."
   ]
  },
  {
   "cell_type": "code",
   "execution_count": null,
   "metadata": {},
   "outputs": [],
   "source": []
  }
 ],
 "metadata": {
  "kernelspec": {
   "display_name": "Python 3",
   "language": "python",
   "name": "python3"
  },
  "language_info": {
   "codemirror_mode": {
    "name": "ipython",
    "version": 3
   },
   "file_extension": ".py",
   "mimetype": "text/x-python",
   "name": "python",
   "nbconvert_exporter": "python",
   "pygments_lexer": "ipython3",
   "version": "3.7.6"
  }
 },
 "nbformat": 4,
 "nbformat_minor": 4
}
